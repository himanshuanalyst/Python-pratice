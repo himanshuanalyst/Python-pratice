{
 "cells": [
  {
   "cell_type": "code",
   "execution_count": 1,
   "id": "0ae6d64a",
   "metadata": {},
   "outputs": [],
   "source": [
    "x=1\n",
    "y=2\n",
    "z=3\n",
    "n=5"
   ]
  },
  {
   "cell_type": "code",
   "execution_count": null,
   "id": "d11ed04a",
   "metadata": {},
   "outputs": [],
   "source": [
    "[[0, 0, 0], [0, 0, 1], [0, 1, 0], [0, 1, 2], [0, 2, 1]]"
   ]
  },
  {
   "cell_type": "code",
   "execution_count": 14,
   "id": "e5790a84",
   "metadata": {},
   "outputs": [
    {
     "name": "stdout",
     "output_type": "stream",
     "text": [
      "[[0, 0, 0], [0, 0, 1], [0, 0, 2], [0, 0, 3], [0, 1, 0], [0, 1, 1], [0, 1, 2], [0, 1, 3], [0, 2, 0], [0, 2, 1], [0, 2, 2], [1, 0, 0], [1, 0, 1], [1, 0, 2], [1, 0, 3], [1, 1, 0], [1, 1, 1], [1, 1, 2], [1, 2, 0], [1, 2, 1]]\n"
     ]
    }
   ],
   "source": [
    "l = []\n",
    "for i in range(x+1):\n",
    "    for j in range(y+1):\n",
    "        for k in range(z+1):\n",
    "            if i+j+k != n:\n",
    "                l.append([i,j,k])\n",
    "            else:\n",
    "                break\n",
    "print(l)"
   ]
  },
  {
   "cell_type": "code",
   "execution_count": 26,
   "id": "1ebe6362",
   "metadata": {
    "scrolled": true
   },
   "outputs": [
    {
     "name": "stdout",
     "output_type": "stream",
     "text": [
      "[[0, 0, 0], [0, 0, 1], [0, 0, 2], [0, 0, 3], [0, 1, 0], [0, 1, 1], [0, 1, 2], [0, 1, 3], [0, 2, 0], [0, 2, 1], [0, 2, 2], [1, 0, 0], [1, 0, 1], [1, 0, 2], [1, 0, 3], [1, 1, 0], [1, 1, 1], [1, 1, 2], [1, 2, 0], [1, 2, 1], [1, 2, 3]]\n"
     ]
    }
   ],
   "source": [
    "newlist=[[i,j,k] for i in [*range(x+1)] for j in [*range(y+1)] for k in [*range(z+1)] if i+j+k != n]\n",
    "print(newlist)"
   ]
  },
  {
   "cell_type": "code",
   "execution_count": 63,
   "id": "4b72b67d",
   "metadata": {},
   "outputs": [],
   "source": [
    "n=[\"4\",\"5\",\"6\",\"7\",\"2\",\"1\"]"
   ]
  },
  {
   "cell_type": "code",
   "execution_count": 64,
   "id": "33fb5598",
   "metadata": {},
   "outputs": [
    {
     "data": {
      "text/plain": [
       "[4, 5, 6, 7, 2, 1]"
      ]
     },
     "execution_count": 64,
     "metadata": {},
     "output_type": "execute_result"
    }
   ],
   "source": [
    "n=[\"4\",\"5\",\"6\",\"7\",\"2\",\"1\"]\n",
    "arr = map(int, n)\n",
    "list(arr)"
   ]
  },
  {
   "cell_type": "code",
   "execution_count": 67,
   "id": "3cfad9fc",
   "metadata": {},
   "outputs": [
    {
     "data": {
      "text/plain": [
       "[4, 5, 6, 7, 2, 1]"
      ]
     },
     "execution_count": 67,
     "metadata": {},
     "output_type": "execute_result"
    }
   ],
   "source": [
    "l=[]\n",
    "for i in list(map(int, n)):\n",
    "    l.append(i)\n",
    "l"
   ]
  },
  {
   "cell_type": "code",
   "execution_count": 66,
   "id": "47f1cedf",
   "metadata": {},
   "outputs": [
    {
     "data": {
      "text/plain": [
       "[4, 5, 6, 7, 2, 1]"
      ]
     },
     "execution_count": 66,
     "metadata": {},
     "output_type": "execute_result"
    }
   ],
   "source": [
    "list(map(int, n))"
   ]
  },
  {
   "cell_type": "code",
   "execution_count": 68,
   "id": "63c6697a",
   "metadata": {},
   "outputs": [
    {
     "data": {
      "text/plain": [
       "[]"
      ]
     },
     "execution_count": 68,
     "metadata": {},
     "output_type": "execute_result"
    }
   ],
   "source": [
    "list(arr)"
   ]
  },
  {
   "cell_type": "code",
   "execution_count": 94,
   "id": "75a91d82",
   "metadata": {},
   "outputs": [],
   "source": [
    "x=[i for i in list(map(int, n))]"
   ]
  },
  {
   "cell_type": "code",
   "execution_count": 95,
   "id": "ade70fe3",
   "metadata": {},
   "outputs": [],
   "source": [
    "y=list(set(x))"
   ]
  },
  {
   "cell_type": "code",
   "execution_count": 96,
   "id": "8e1b371b",
   "metadata": {},
   "outputs": [
    {
     "data": {
      "text/plain": [
       "6"
      ]
     },
     "execution_count": 96,
     "metadata": {},
     "output_type": "execute_result"
    }
   ],
   "source": [
    "list(set(x))[-2]"
   ]
  },
  {
   "cell_type": "code",
   "execution_count": 106,
   "id": "fbd963ce",
   "metadata": {},
   "outputs": [
    {
     "data": {
      "text/plain": [
       "5"
      ]
     },
     "execution_count": 106,
     "metadata": {},
     "output_type": "execute_result"
    }
   ],
   "source": [
    "list(set([2,3,6,6,5]))[-2]"
   ]
  },
  {
   "cell_type": "code",
   "execution_count": 1,
   "id": "8c0d0008",
   "metadata": {},
   "outputs": [
    {
     "name": "stdout",
     "output_type": "stream",
     "text": [
      "5\n",
      "2 5 6 7 8\n",
      "7\n"
     ]
    }
   ],
   "source": [
    "n = int(input())\n",
    "arr = map(int, input().split())\n",
    "x=list(set(list(arr)))[-2]\n",
    "print(x)"
   ]
  },
  {
   "cell_type": "code",
   "execution_count": null,
   "id": "9f5daa22",
   "metadata": {},
   "outputs": [],
   "source": []
  }
 ],
 "metadata": {
  "kernelspec": {
   "display_name": "Python 3 (ipykernel)",
   "language": "python",
   "name": "python3"
  },
  "language_info": {
   "codemirror_mode": {
    "name": "ipython",
    "version": 3
   },
   "file_extension": ".py",
   "mimetype": "text/x-python",
   "name": "python",
   "nbconvert_exporter": "python",
   "pygments_lexer": "ipython3",
   "version": "3.9.12"
  }
 },
 "nbformat": 4,
 "nbformat_minor": 5
}
