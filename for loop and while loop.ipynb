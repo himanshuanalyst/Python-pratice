{
 "cells": [
  {
   "cell_type": "code",
   "execution_count": 1,
   "id": "c7d604d6",
   "metadata": {},
   "outputs": [],
   "source": [
    "records= [['him',20],['ram',40],['shyam',40],['simran',80]]"
   ]
  },
  {
   "cell_type": "code",
   "execution_count": 2,
   "id": "47124860",
   "metadata": {},
   "outputs": [
    {
     "data": {
      "text/plain": [
       "[['him', 20], ['ram', 40], ['shyam', 40], ['simran', 80]]"
      ]
     },
     "execution_count": 2,
     "metadata": {},
     "output_type": "execute_result"
    }
   ],
   "source": [
    "records"
   ]
  },
  {
   "cell_type": "code",
   "execution_count": 4,
   "id": "f5569e78",
   "metadata": {},
   "outputs": [
    {
     "data": {
      "text/plain": [
       "20"
      ]
     },
     "execution_count": 4,
     "metadata": {},
     "output_type": "execute_result"
    }
   ],
   "source": [
    "records[0][1]"
   ]
  },
  {
   "cell_type": "code",
   "execution_count": 5,
   "id": "6958d67e",
   "metadata": {},
   "outputs": [
    {
     "name": "stdout",
     "output_type": "stream",
     "text": [
      "['him', 20]\n",
      "['ram', 40]\n",
      "['shyam', 40]\n",
      "['simran', 80]\n"
     ]
    }
   ],
   "source": [
    "for i in records:\n",
    "    print(i)"
   ]
  },
  {
   "cell_type": "code",
   "execution_count": 7,
   "id": "42daf7e1",
   "metadata": {},
   "outputs": [],
   "source": [
    "l= []\n",
    "for i in records:\n",
    "    l.append(i[1])"
   ]
  },
  {
   "cell_type": "code",
   "execution_count": 8,
   "id": "b86b53ff",
   "metadata": {},
   "outputs": [
    {
     "data": {
      "text/plain": [
       "[20, 40, 40, 80]"
      ]
     },
     "execution_count": 8,
     "metadata": {},
     "output_type": "execute_result"
    }
   ],
   "source": [
    "l"
   ]
  },
  {
   "cell_type": "code",
   "execution_count": 15,
   "id": "eb860e7d",
   "metadata": {},
   "outputs": [],
   "source": [
    "l1=list(set(l))"
   ]
  },
  {
   "cell_type": "code",
   "execution_count": 17,
   "id": "7cc42bf8",
   "metadata": {},
   "outputs": [],
   "source": [
    "l1.sort()"
   ]
  },
  {
   "cell_type": "code",
   "execution_count": 20,
   "id": "42290bb9",
   "metadata": {},
   "outputs": [
    {
     "data": {
      "text/plain": [
       "40"
      ]
     },
     "execution_count": 20,
     "metadata": {},
     "output_type": "execute_result"
    }
   ],
   "source": [
    "l1[1]"
   ]
  },
  {
   "cell_type": "code",
   "execution_count": 21,
   "id": "ca2152bc",
   "metadata": {},
   "outputs": [
    {
     "data": {
      "text/plain": [
       "[['him', 20], ['ram', 40], ['shyam', 40], ['simran', 80]]"
      ]
     },
     "execution_count": 21,
     "metadata": {},
     "output_type": "execute_result"
    }
   ],
   "source": [
    "records"
   ]
  },
  {
   "cell_type": "code",
   "execution_count": 22,
   "id": "de30850c",
   "metadata": {},
   "outputs": [],
   "source": [
    "name = []\n",
    "for i in records:\n",
    "    if i[1] == l1[1]:\n",
    "        name.append(i[0])\n",
    "        "
   ]
  },
  {
   "cell_type": "code",
   "execution_count": 23,
   "id": "8930aca4",
   "metadata": {},
   "outputs": [
    {
     "data": {
      "text/plain": [
       "['ram', 'shyam']"
      ]
     },
     "execution_count": 23,
     "metadata": {},
     "output_type": "execute_result"
    }
   ],
   "source": [
    "name"
   ]
  },
  {
   "cell_type": "code",
   "execution_count": 24,
   "id": "bbf78e47",
   "metadata": {},
   "outputs": [],
   "source": [
    "name.sort()"
   ]
  },
  {
   "cell_type": "code",
   "execution_count": 26,
   "id": "7067743c",
   "metadata": {},
   "outputs": [
    {
     "data": {
      "text/plain": [
       "['ram', 'shyam']"
      ]
     },
     "execution_count": 26,
     "metadata": {},
     "output_type": "execute_result"
    }
   ],
   "source": [
    "name"
   ]
  },
  {
   "cell_type": "code",
   "execution_count": 27,
   "id": "fc3f54f5",
   "metadata": {},
   "outputs": [
    {
     "name": "stdout",
     "output_type": "stream",
     "text": [
      "ram\n",
      "shyam\n"
     ]
    }
   ],
   "source": [
    "for i in name:\n",
    "    print(i)"
   ]
  },
  {
   "cell_type": "code",
   "execution_count": 28,
   "id": "a9561616",
   "metadata": {},
   "outputs": [],
   "source": [
    " def secondlowest(students):\n",
    "        l= []\n",
    "        for i in students:\n",
    "            l.append(i[1])\n",
    "        l1=list(set(l))\n",
    "        l1.sort()\n",
    "        l1[1]\n",
    "        name = []\n",
    "        for i in students:\n",
    "            if i[1] == l1[1]:\n",
    "                name.append(i[0])\n",
    "        name.sort()\n",
    "        for i in name:\n",
    "            print(i)"
   ]
  },
  {
   "cell_type": "code",
   "execution_count": 31,
   "id": "ae1a20dd",
   "metadata": {},
   "outputs": [],
   "source": [
    "students= [['him',20],['ram',20],['shyam',10],['simran',80]]"
   ]
  },
  {
   "cell_type": "code",
   "execution_count": 32,
   "id": "f834296a",
   "metadata": {},
   "outputs": [
    {
     "name": "stdout",
     "output_type": "stream",
     "text": [
      "him\n",
      "ram\n"
     ]
    }
   ],
   "source": [
    "secondlowest(students)"
   ]
  },
  {
   "cell_type": "code",
   "execution_count": 36,
   "id": "4128071f",
   "metadata": {},
   "outputs": [
    {
     "name": "stdout",
     "output_type": "stream",
     "text": [
      "3\n",
      "him\n",
      "20\n",
      "syam\n",
      "30\n",
      "sita\n",
      "30\n"
     ]
    }
   ],
   "source": [
    "students= []\n",
    "for i in range(int(input())):\n",
    "        name = input()\n",
    "        score = float(input())\n",
    "        students.append([name,score])"
   ]
  },
  {
   "cell_type": "code",
   "execution_count": 37,
   "id": "d24092f0",
   "metadata": {},
   "outputs": [
    {
     "data": {
      "text/plain": [
       "[['him', 20.0], ['syam', 30.0], ['sita', 30.0]]"
      ]
     },
     "execution_count": 37,
     "metadata": {},
     "output_type": "execute_result"
    }
   ],
   "source": [
    "students"
   ]
  },
  {
   "cell_type": "code",
   "execution_count": null,
   "id": "7edd70e3",
   "metadata": {},
   "outputs": [],
   "source": []
  }
 ],
 "metadata": {
  "kernelspec": {
   "display_name": "Python 3 (ipykernel)",
   "language": "python",
   "name": "python3"
  },
  "language_info": {
   "codemirror_mode": {
    "name": "ipython",
    "version": 3
   },
   "file_extension": ".py",
   "mimetype": "text/x-python",
   "name": "python",
   "nbconvert_exporter": "python",
   "pygments_lexer": "ipython3",
   "version": "3.9.12"
  }
 },
 "nbformat": 4,
 "nbformat_minor": 5
}
